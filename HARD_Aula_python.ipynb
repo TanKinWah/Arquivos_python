{
 "cells": [
  {
   "cell_type": "markdown",
   "metadata": {},
   "source": [
    "# Bem vindo ao Workshop - Python\n",
    "\n",
    "### Se é a primeira vez que você usa o Jupyter notebook, seja bem-vindo ao ambiente de codificação.\n",
    "\n",
    "Kernels (também conhecidos como blocos de anotações) são compostos de blocos (chamados \"células\") de texto e código. Cada um deles é editável, embora você principalmente edite as células de código para responder a algumas perguntas.\n",
    "\n",
    "Para começar, tente executar a célula de código abaixo (pressionando o botão ► RUN ou clicando na célula e pressionando ctrl + enter no teclado)."
   ]
  },
  {
   "cell_type": "code",
   "execution_count": 27,
   "metadata": {},
   "outputs": [
    {
     "name": "stdout",
     "output_type": "stream",
     "text": [
      "Tan\n"
     ]
    }
   ],
   "source": [
    "#inserindo o nome\n",
    "nome = 'Tan'\n",
    "print(nome)\n",
    "\n",
    "# Mude o seu nome,\n",
    "# para quem é de outra linguagem como javascript, que vem do mundo tipado deve achar estranho\n",
    "#Onde a tipagem tem o papel muito forte\n",
    "#Não precisa falar se a variavel é um inteiro ou uma string.\n",
    "#Por padrão é Global\n"
   ]
  },
  {
   "cell_type": "code",
   "execution_count": 28,
   "metadata": {},
   "outputs": [
    {
     "data": {
      "text/plain": [
       "'Tan'"
      ]
     },
     "execution_count": 28,
     "metadata": {},
     "output_type": "execute_result"
    }
   ],
   "source": [
    "nome = 'Tan'\n",
    "nome\n",
    "\n",
    "# Costumamos geralmente só escrever o nome da variavel, só digitar a variavel que ele vai imprimir a saida"
   ]
  },
  {
   "cell_type": "code",
   "execution_count": 33,
   "metadata": {},
   "outputs": [
    {
     "data": {
      "text/plain": [
       "23"
      ]
     },
     "execution_count": 33,
     "metadata": {},
     "output_type": "execute_result"
    }
   ],
   "source": [
    "#Valor da idade altere como quiser\n",
    "idade = 23\n",
    "idade"
   ]
  },
  {
   "cell_type": "code",
   "execution_count": 34,
   "metadata": {},
   "outputs": [
    {
     "data": {
      "text/plain": [
       "24"
      ]
     },
     "execution_count": 34,
     "metadata": {},
     "output_type": "execute_result"
    }
   ],
   "source": [
    "idade +5"
   ]
  },
  {
   "cell_type": "code",
   "execution_count": 52,
   "metadata": {},
   "outputs": [
    {
     "data": {
      "text/plain": [
       "23"
      ]
     },
     "execution_count": 52,
     "metadata": {},
     "output_type": "execute_result"
    }
   ],
   "source": [
    "#é obvio se eu imprimir a idade vai continuar sendo o valor da idade, eu não atribui\n",
    "idade"
   ]
  },
  {
   "cell_type": "code",
   "execution_count": null,
   "metadata": {},
   "outputs": [],
   "source": [
    "idade = idade +1"
   ]
  },
  {
   "cell_type": "code",
   "execution_count": 4,
   "metadata": {},
   "outputs": [
    {
     "name": "stdout",
     "output_type": "stream",
     "text": [
      "20\n"
     ]
    },
    {
     "data": {
      "text/plain": [
       "20"
      ]
     },
     "execution_count": 4,
     "metadata": {},
     "output_type": "execute_result"
    }
   ],
   "source": [
    "#Uma coisa legal do notebook que podemos voltar e visualizar os nossos passos, podemos ir executando, \n",
    "#eu quero executar o pedaço antigo, por exemplo mudar o nome para Vitor!\n",
    "#Se eu mudar nas celulas antigas e compilar, lembrando que os proximos ainda estão com valor antigos, entao para ter\n",
    "# Essa atualização precisamos ou compilar as celulas seguintes ou recompilar o projeto todo\n",
    "\n",
    "#Não reativo como excel, vc atualiza um e ele automaticamente atualiza todos...\n",
    "#Ele atualiza só oque vc executou\n",
    "#"
   ]
  },
  {
   "cell_type": "code",
   "execution_count": null,
   "metadata": {},
   "outputs": [],
   "source": [
    "#Vamos utilizar uma função que é oque vamos utilizar no dia dia.\n",
    "#Com isso vamos conseguir ver o parametro e retorno,"
   ]
  },
  {
   "cell_type": "markdown",
   "metadata": {},
   "source": [
    "# <font color=\"red\">Este texto é vermelho!</font>"
   ]
  },
  {
   "cell_type": "code",
   "execution_count": null,
   "metadata": {},
   "outputs": [],
   "source": [
    "function maisUmAno(idade) {\n",
    "    return idade + 1\n",
    "}\n",
    "\n",
    "# Quer dizer isso nao é Python neh?\n",
    "\n",
    "def mais_um_ano(idade):\n",
    "    print(\"Sua idade é\")\n",
    "    return idade + 1\n",
    "\n",
    "# Indentação tomar cuidado = 4 espaco ou 1 tab\n",
    "# É engracodo pq esse exemplo é muito simples, tem que ter em mente que é essas \n",
    "#funcoes sao os building blocks, se vc aprender variavei = guardas os valores\n",
    "# e as funcoes executa isso\n",
    "# Eu digo engracado pq com esse simples exemplo conseguimos fazer muitas coisas\n"
   ]
  },
  {
   "cell_type": "markdown",
   "metadata": {},
   "source": [
    "# Desafio\n",
    "\n",
    "### Crie uma função com o nome de nome_idade, e retorne na saída a idade e o nome"
   ]
  },
  {
   "cell_type": "code",
   "execution_count": null,
   "metadata": {},
   "outputs": [],
   "source": []
  },
  {
   "cell_type": "code",
   "execution_count": null,
   "metadata": {},
   "outputs": [],
   "source": []
  },
  {
   "cell_type": "markdown",
   "metadata": {},
   "source": [
    "# Manipulação de listas e seus derivados"
   ]
  },
  {
   "cell_type": "code",
   "execution_count": 47,
   "metadata": {},
   "outputs": [],
   "source": [
    "#vamos continuar um pouco, \n",
    "filme1= \"Toy story 19\"\n",
    "filme2= \"A xuxa e os baixinhos\"\n",
    "filme3= \"Matrix 1\"\n",
    "\n",
    "\n"
   ]
  },
  {
   "cell_type": "code",
   "execution_count": 46,
   "metadata": {},
   "outputs": [],
   "source": [
    "filmes = [\"Toy story 19\", \"Xuxa e os baixinhos\", \"Matrix 1\"]"
   ]
  },
  {
   "cell_type": "code",
   "execution_count": 45,
   "metadata": {},
   "outputs": [
    {
     "data": {
      "text/plain": [
       "['Toy story 19', 'A xuxa e os baixinhos', 'Matrix 1']"
      ]
     },
     "execution_count": 45,
     "metadata": {},
     "output_type": "execute_result"
    }
   ],
   "source": [
    "filmes = [filme1, filme2, filme3]\n",
    "filmes\n",
    "\n",
    "#Para quem é de outra linguagem, o pessoal chama de uma Array, mas na literatura\n",
    "# Do python é Lista"
   ]
  },
  {
   "cell_type": "code",
   "execution_count": 43,
   "metadata": {},
   "outputs": [
    {
     "data": {
      "text/plain": [
       "[]"
      ]
     },
     "execution_count": 43,
     "metadata": {},
     "output_type": "execute_result"
    }
   ],
   "source": [
    "list()"
   ]
  },
  {
   "cell_type": "code",
   "execution_count": 44,
   "metadata": {},
   "outputs": [],
   "source": [
    "def imprime_filmes(filmes_que_quero_imprimir):\n",
    "    print(\"A lista de filmes que eu tenho disponivel\")\n",
    "    print(filmes_que_quero_imprimir)"
   ]
  },
  {
   "cell_type": "code",
   "execution_count": 48,
   "metadata": {},
   "outputs": [
    {
     "name": "stdout",
     "output_type": "stream",
     "text": [
      "A lista de filmes que eu tenho disponivel\n",
      "['Toy story 19', 'Xuxa e os baixinhos', 'Matrix 1']\n"
     ]
    }
   ],
   "source": [
    "imprime_filmes(filmes)"
   ]
  },
  {
   "cell_type": "code",
   "execution_count": 49,
   "metadata": {},
   "outputs": [
    {
     "data": {
      "text/plain": [
       "'Toy story 19'"
      ]
     },
     "execution_count": 49,
     "metadata": {},
     "output_type": "execute_result"
    }
   ],
   "source": [
    "filmes[0]"
   ]
  },
  {
   "cell_type": "code",
   "execution_count": null,
   "metadata": {},
   "outputs": [],
   "source": [
    "#filmes[1], #filmes[2], filmes[3]\n",
    "#filmes[-1]\n",
    "#filmes[:1], posicao 1 para frente\n",
    "#É super comum usar isso nas listas para fazer os cortes, isso se chama SLICE"
   ]
  },
  {
   "cell_type": "code",
   "execution_count": null,
   "metadata": {},
   "outputs": [],
   "source": [
    "#Para cada um dos filmes dentro da lista filmes, vou fazer alguma coisa\n",
    "for x in filmes:\n",
    "    print(filme)"
   ]
  },
  {
   "cell_type": "code",
   "execution_count": 53,
   "metadata": {},
   "outputs": [],
   "source": [
    "def imprime_filmes(filmes_que_quero_imprimir):\n",
    "    print(\"A lista de filmes que eu tenho disponivel:\")\n",
    "    for x in filmes_que_quero_imprimir:\n",
    "        print(x)"
   ]
  },
  {
   "cell_type": "code",
   "execution_count": 54,
   "metadata": {},
   "outputs": [
    {
     "name": "stdout",
     "output_type": "stream",
     "text": [
      "A lista de filmes que eu tenho disponivel:\n",
      "Toy story 19\n",
      "Xuxa e os baixinhos\n",
      "Matrix 1\n"
     ]
    }
   ],
   "source": [
    "imprime_filmes(filmes)"
   ]
  },
  {
   "cell_type": "code",
   "execution_count": 55,
   "metadata": {},
   "outputs": [],
   "source": [
    "#Dicionario\n",
    "dados = { \"nome\" : (\"Tan\", \"Vitor\"),\"idade\":(22,21)}"
   ]
  },
  {
   "cell_type": "code",
   "execution_count": 68,
   "metadata": {},
   "outputs": [
    {
     "data": {
      "text/plain": [
       "(('Tan', 'Vitor'), (22, 21))"
      ]
     },
     "execution_count": 68,
     "metadata": {},
     "output_type": "execute_result"
    }
   ],
   "source": [
    "dados[\"nome\"],dados[\"idade\"]"
   ]
  },
  {
   "cell_type": "code",
   "execution_count": 91,
   "metadata": {},
   "outputs": [
    {
     "name": "stdout",
     "output_type": "stream",
     "text": [
      "Digite um numero menor que 100:30\n",
      "O numero digitado é menor que 100\n"
     ]
    }
   ],
   "source": [
    "#Estruturas de controle de fluxo\n",
    "#IF, else, elif\n",
    "num = input(\"Digite um número menor que 100:\")\n",
    "if (num.isdigit()):\n",
    "    if (int(num) > 100):\n",
    "        print(\"Desculpe, mas o valor digitado é maior que 100\")\n",
    "\n",
    "    else:\n",
    "        print(\"O número digitado é menor que 100\")\n",
    "else:\n",
    "    print(\"Valor digitado não é um número\")"
   ]
  },
  {
   "cell_type": "code",
   "execution_count": null,
   "metadata": {},
   "outputs": [],
   "source": []
  },
  {
   "cell_type": "code",
   "execution_count": 83,
   "metadata": {},
   "outputs": [],
   "source": [
    "#Dicionario\n",
    "dados = { \"País\" : (\"Brasil\", \"Alemanha\", \"China\", \"EUA\"),\n",
    "         \"Capital\":(\"Brasília\",\"Berlim\", \"Pequim\", \"Washington D.C\"),\n",
    "         \"Habitantes\":(202768562 ,81448386,1394550000 , 328926114)}"
   ]
  },
  {
   "cell_type": "code",
   "execution_count": 84,
   "metadata": {},
   "outputs": [
    {
     "data": {
      "text/plain": [
       "'1,394,550,000'"
      ]
     },
     "execution_count": 84,
     "metadata": {},
     "output_type": "execute_result"
    }
   ],
   "source": [
    "f'{max(dados[\"Habitantes\"]):,}'\n"
   ]
  },
  {
   "cell_type": "code",
   "execution_count": 85,
   "metadata": {},
   "outputs": [
    {
     "name": "stdout",
     "output_type": "stream",
     "text": [
      "('Brasil', 'Alemanha', 'China', 'EUA')\n",
      "('Brasília', 'Berlim', 'Pequim', 'Washington D.C')\n",
      "(202768562, 81448386, 1394550000, 328926114)\n"
     ]
    }
   ],
   "source": [
    "#retorna apenas os valores\n",
    "for x in dados.values():\n",
    "    print(x)"
   ]
  },
  {
   "cell_type": "code",
   "execution_count": 86,
   "metadata": {},
   "outputs": [
    {
     "name": "stdout",
     "output_type": "stream",
     "text": [
      "País ('Brasil', 'Alemanha', 'China', 'EUA')\n",
      "Capital ('Brasília', 'Berlim', 'Pequim', 'Washington D.C')\n",
      "Habitantes (202768562, 81448386, 1394550000, 328926114)\n"
     ]
    }
   ],
   "source": [
    "#retorna tudo[chave e valor]\n",
    "for x, y in dados.items():\n",
    "    print(x, y)"
   ]
  },
  {
   "cell_type": "code",
   "execution_count": 87,
   "metadata": {},
   "outputs": [
    {
     "data": {
      "text/plain": [
       "('Brasília', 'Berlim', 'Pequim', 'Washington D.C')"
      ]
     },
     "execution_count": 87,
     "metadata": {},
     "output_type": "execute_result"
    }
   ],
   "source": [
    "x = dados.get(\"Capital\")\n",
    "x"
   ]
  },
  {
   "cell_type": "code",
   "execution_count": 98,
   "metadata": {},
   "outputs": [
    {
     "data": {
      "text/plain": [
       "{'País': ('Brasil', 'Alemanha', 'China', 'EUA'),\n",
       " 'Capital': ('Brasília', 'Berlim', 'Pequim', 'Washington D.C'),\n",
       " 'Habitantes': (202768562, 81448386, 1394550000, 328926114),\n",
       " 'Cor': 'Azul'}"
      ]
     },
     "execution_count": 98,
     "metadata": {},
     "output_type": "execute_result"
    }
   ],
   "source": [
    "#Adicionando no dicionario\n",
    "dados[\"Cor\"]= \"Azul\"\n",
    "dados"
   ]
  },
  {
   "cell_type": "code",
   "execution_count": 100,
   "metadata": {},
   "outputs": [
    {
     "data": {
      "text/plain": [
       "{'País': ('Brasil', 'Alemanha', 'China', 'EUA'),\n",
       " 'Capital': ('Brasília', 'Berlim', 'Pequim', 'Washington D.C'),\n",
       " 'Habitantes': (202768562, 81448386, 1394550000, 328926114)}"
      ]
     },
     "execution_count": 100,
     "metadata": {},
     "output_type": "execute_result"
    }
   ],
   "source": [
    "del dados[\"Cor\"]\n",
    "dados"
   ]
  },
  {
   "cell_type": "code",
   "execution_count": null,
   "metadata": {},
   "outputs": [],
   "source": []
  },
  {
   "cell_type": "code",
   "execution_count": null,
   "metadata": {},
   "outputs": [],
   "source": []
  },
  {
   "cell_type": "markdown",
   "metadata": {},
   "source": [
    "# <font color=\"red\"> VAMOS PARA A BIBLIOTECA PANDAS !</font>"
   ]
  },
  {
   "cell_type": "code",
   "execution_count": 151,
   "metadata": {
    "collapsed": true
   },
   "outputs": [
    {
     "name": "stdout",
     "output_type": "stream",
     "text": [
      ".NET platform fundamentals. Memory and Garbage collection\n",
      "\n",
      "(Value and ref types, Understanding of garbage collection, IDisposable,Â Assemblies, GAC, JIT, Reflection, AppDomains, CLR, Heaps)\"\n",
      "\n",
      "\"C# language\n",
      "\n",
      "(Indicates knowledge of C# language primitives like classes, interfaces, generics, events, dynamics, lamdba, attributes, exceptions,Â LINQ (queries, expressions, operations), anonymous methods/types)\"\n",
      "\n",
      "\".NET Collections\n",
      "\n",
      "(IEnumerable, ICollection and IList interfaces. Standard lists and dictionaries)\"\n",
      "\n",
      "\"Data persisting\n",
      "\n",
      "(I/O, Serialization, Data formats, EntityFramework)\"\n",
      "\n",
      "\".NET multithreading and synchronization tools\n",
      "\n",
      "(Thread/Task classes, Synchronization primitives, Async/await methods,Â TPL, PFX, PLINQ)\"\n",
      "\n",
      "\n",
      "\n",
      "\"ASP.NET Web Forms \n",
      "\n",
      "(Proviers model, HttpApplication, Request pipeline, HTTP modules, HTTP handlers, State management)\"\n",
      "\n",
      "\"ASP.NET MVC \n",
      "\n",
      "(Routes, Controllers, Standard conventions, Action filters, View results, View engines, Dependency resolvers)\"\n",
      "\n",
      "\"ASP.NET Web API\n",
      "\n",
      "(REST, routes, conventions, filters)\"\n",
      "\n",
      "\"Web Services \n",
      "\n",
      "(WCF, Web API)\"\n",
      "\n",
      "Windows Services\n",
      "\n",
      "\n",
      "\n",
      "\"XAML \n",
      "\n",
      "(Propery/collection syntax, Namespaces, markup estensions, type converters,  attached properties)\"\n",
      "\n",
      "\"WPF Core\n",
      "\n",
      "(Events, styles, resources, binding, control/data templates, standard controls, animation, triggers, custom/user controls, layout model, threading model, behaviors)\"\n",
      "\n",
      "\"WPF Frameworks \n",
      "\n",
      "(Prism, Chinch, MVVM Light)\"\n",
      "\n",
      "\n",
      "\n",
      "OOA/P concepts/Design Patterns/ SOLID/UML\n",
      "\n",
      "\"SQL and Database Design\n",
      "\n",
      "(primary keys (composite), indexes (clustered), external keys, normalization, understanding of triggers and stored procedures/functions, joins)\"\n",
      "\n",
      "\"Web Basics \n",
      "\n",
      "(HTML, CSS, Javascript, HTTP protocol,Â methods, headers, cookies, session, localStorage)\"\n",
      "\n",
      "\"Build tools \n",
      "\n",
      "(TFS (Online), Maven, MSBuild, Ant, etc.) \"\n",
      "\n",
      "\"Unit Testing\n",
      "\n",
      "(Mocks/fakes, IoC pattern, Lifetime managers, TDD, BDD)\"\n",
      "\n",
      "BigData and NoSQL\n",
      "\n",
      "Clouds (EC2, Azure, etc.)\n",
      "\n",
      "\"Software development process\n",
      "\n",
      "(Understanding development and QA processes, gathering requirements, unit testing etc.)\"\n",
      "\n",
      "\"Security \n",
      "\n",
      "(Authorization, Authentication, encription, SSL, cerificates)\"\n",
      "\n",
      "Regular expressions\n",
      "\n",
      "\n",
      "\n",
      "Client Tools (Just for information purposes. Cannot be eliminatory but can be positive)\n",
      "\n",
      "Apache Cassandra\n",
      "\n",
      "Apache Kafka\n",
      "\n",
      "Elastic Search\n",
      "\n",
      "MongoDB\n",
      "\n",
      "Kibana\n",
      "\n",
      "Docker\n",
      "\n",
      "Jenkins\n",
      "\n",
      "Teamcity\n",
      "\n",
      "Octopus\n",
      "\n",
      "Specflow\n",
      "\n",
      "Selennium\n",
      "\n",
      "Dapper\n",
      "\n",
      "Hangfire / Quartz\n",
      "\n",
      "PostSharp 4\n",
      "\n",
      "MassTransit\n",
      "\n",
      "RabbitMQ\n",
      "\n",
      "Redis\n",
      "\n"
     ]
    }
   ],
   "source": [
    "arq = open('C:/Users/KinWah/Downloads/NET.txt','r')\n",
    "for linha in arq:\n",
    "    print(linha)\n",
    "arq.close()"
   ]
  },
  {
   "cell_type": "code",
   "execution_count": null,
   "metadata": {},
   "outputs": [],
   "source": [
    "diretorio= 'C:/Users/KinWah/Downloads/NET.txt'\n",
    "arq = open(diretorio,'r')\n",
    "palavra = input (\"DIGITE A PALAVRA PARA BUSCA:\")\n",
    "contador = 0\n",
    "for linha in arq:\n",
    "    #retirar o /n no final, por causa do print\n",
    "    linha = linha.rstrip()\n",
    "    if palavra in linha:\n",
    "        contador = contador +1\n",
    "        print(linha)\n",
    "\n",
    "print(\"\\n Foram retornadas\", contador, \"linhas\")        \n",
    "arq.close()"
   ]
  },
  {
   "cell_type": "code",
   "execution_count": null,
   "metadata": {},
   "outputs": [],
   "source": [
    "#escrevendo arquivo\n",
    "#certifique de não haver arquivo com mesmo nome, senao ele vai apagar\n",
    "arquivo = open('C:/Users/KinWah/Downloads/NETT.txt', 'w') \n",
    "for x in range(10):\n",
    "    arquivo.write(\"Essa é a linha %d\\r\\n\" % (x+1))\n",
    "        \n",
    "arquivo.close()"
   ]
  },
  {
   "cell_type": "markdown",
   "metadata": {},
   "source": [
    "## RESPOSTA"
   ]
  },
  {
   "cell_type": "code",
   "execution_count": null,
   "metadata": {},
   "outputs": [],
   "source": [
    "arq = open('C:/Users/KinWah/Downloads/NET.txt','r')\n",
    "a=''\n",
    "palavra = input (\"DIGITE A PALAVRA PARA BUSCA:\")\n",
    "contador = 0\n",
    "for linha in arq:\n",
    "    #retirar o /n no final, por causa do print\n",
    "    linha = linha.rstrip()\n",
    "    if palavra in linha:\n",
    "        contador = contador +1\n",
    "        print(linha)\n",
    "        a= a + ('\\n') + linha\n",
    "print(\"\\n Foram retornadas\", contador, \"linhas\")        \n",
    "arq.close()"
   ]
  },
  {
   "cell_type": "code",
   "execution_count": null,
   "metadata": {},
   "outputs": [],
   "source": [
    "#escrevendo arquivo\n",
    "#certifique de não haver arquivo com mesmo nome, senao ele vai apagar\n",
    "arquivo = open('C:/Users/KinWah/Downloads/NETTi.txt', 'w') \n",
    "arquivo.write(a)\n",
    "\n",
    "a=''        \n",
    "arquivo.close()"
   ]
  },
  {
   "cell_type": "code",
   "execution_count": 98,
   "metadata": {},
   "outputs": [],
   "source": [
    "#pip install pandas\n",
    "#quem nao estiver usando o jupyter notebook\n",
    "import pandas as pd\n",
    "#importando a biblioteca do pandas"
   ]
  },
  {
   "cell_type": "code",
   "execution_count": 72,
   "metadata": {},
   "outputs": [
    {
     "name": "stdout",
     "output_type": "stream",
     "text": [
      "Requirement already satisfied: pandas in c:\\programdata\\anaconda3\\lib\\site-packages (0.25.3)\n",
      "Requirement already satisfied: numpy>=1.13.3 in c:\\programdata\\anaconda3\\lib\\site-packages (from pandas) (1.17.3)\n",
      "Requirement already satisfied: pytz>=2017.2 in c:\\programdata\\anaconda3\\lib\\site-packages (from pandas) (2019.3)\n",
      "Requirement already satisfied: python-dateutil>=2.6.1 in c:\\programdata\\anaconda3\\lib\\site-packages (from pandas) (2.8.1)\n",
      "Requirement already satisfied: six>=1.5 in c:\\programdata\\anaconda3\\lib\\site-packages (from python-dateutil>=2.6.1->pandas) (1.13.0)\n",
      "Note: you may need to restart the kernel to use updated packages.\n"
     ]
    }
   ],
   "source": [
    "pip install pandas"
   ]
  },
  {
   "cell_type": "code",
   "execution_count": null,
   "metadata": {},
   "outputs": [],
   "source": [
    "import pandas as pd\n",
    "uri = \"http\"\n",
    "pd.read_csv(uri)"
   ]
  }
 ],
 "metadata": {
  "kernelspec": {
   "display_name": "Python 3",
   "language": "python",
   "name": "python3"
  },
  "language_info": {
   "codemirror_mode": {
    "name": "ipython",
    "version": 3
   },
   "file_extension": ".py",
   "mimetype": "text/x-python",
   "name": "python",
   "nbconvert_exporter": "python",
   "pygments_lexer": "ipython3",
   "version": "3.7.3"
  }
 },
 "nbformat": 4,
 "nbformat_minor": 2
}
